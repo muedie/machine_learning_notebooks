{
 "cells": [
  {
   "cell_type": "code",
   "execution_count": 1,
   "metadata": {},
   "outputs": [],
   "source": [
    "from sys import stdout\n",
    "\n",
    "import numpy as np\n",
    "import matplotlib.pyplot as plt\n",
    "\n",
    "# to check how far off my implementation is\n",
    "from sklearn.cluster import KMeans"
   ]
  },
  {
   "cell_type": "code",
   "execution_count": 2,
   "metadata": {},
   "outputs": [],
   "source": [
    "# generating 2 sets of gaussian data\n",
    "\n",
    "mean, cov = [1, 0], [[.9, .4],[.4,.9]]\n",
    "mean2 = [0, 1.5]\n",
    "\n",
    "x1 = np.random.multivariate_normal(mean, cov, 500)\n",
    "x2 = np.random.multivariate_normal(mean2, cov, 500)\n",
    "\n",
    "x = np.concatenate((x1, x2))"
   ]
  },
  {
   "cell_type": "code",
   "execution_count": 3,
   "metadata": {},
   "outputs": [],
   "source": [
    "# to make easier to plot and get find centers, this returns\n",
    "# both centers and clusters\n",
    "\n",
    "def mykmeans(x, k, c=None):\n",
    "    \"\"\"\n",
    "    X - R^n*p where n number of objects, p number of attributes\n",
    "    k - clusters, int\n",
    "    c - initial centers, np.array shape (k, 2)\n",
    "    \n",
    "    return (centers, clusters)\n",
    "    \"\"\"\n",
    "    \n",
    "    if not x.any() or not k:\n",
    "        print('x or k not supplied!')\n",
    "        return\n",
    "    \n",
    "    if not c.any():\n",
    "        #pick random centers\n",
    "        c = np.array([x[i] for i in np.random.choice(np.arange(len(x)), k)])\n",
    "            \n",
    "    # main loop\n",
    "    it = 0\n",
    "    retclus = []\n",
    "    \n",
    "    while it < 10000:\n",
    "        # np.linalg.norm(a-b) finds eucledian distance\n",
    "        clusters = [[] for i in range(k)]\n",
    "        \n",
    "        # put each x[i] in nearest center\n",
    "        for xi in x:\n",
    "            # find nearest center\n",
    "            \n",
    "            idx = 0 # this is index to save into\n",
    "            i = 0 # iterator\n",
    "            nearc = np.linalg.norm(c[0]-xi)\n",
    "            \n",
    "            for cen in c:\n",
    "                cdist = np.linalg.norm(cen-xi)\n",
    "                if cdist < nearc:\n",
    "                    idx = i\n",
    "                    nearc = cdist\n",
    "                    \n",
    "                i += 1\n",
    "                \n",
    "            # save into nearest center\n",
    "            clusters[idx].append(xi)\n",
    "        \n",
    "        # pick new centers\n",
    "        new = []\n",
    "        for cluster in clusters:\n",
    "            ar = np.array(cluster)\n",
    "            # edge case\n",
    "            if len(ar) == 0:\n",
    "                new.append(x[0])\n",
    "            else:\n",
    "                new.append(ar.mean(axis=0))\n",
    "        \n",
    "        # convergence: check if l2-norm is <= 0.001 between prev & new center\n",
    "        diff = np.linalg.norm(c-np.array(new)) \n",
    "        if diff <= 0.001:\n",
    "            break\n",
    "            \n",
    "        c = new\n",
    "        retclus = clusters\n",
    "        \n",
    "        it += 1\n",
    "        if it % 100 == 0:\n",
    "            stdout.flush()\n",
    "            print(f'\\r{it} iterations done! diff: {diff}', end='')\n",
    "    \n",
    "    print(f'Took {it} iterations!')\n",
    "    \n",
    "    return c, retclus"
   ]
  },
  {
   "cell_type": "markdown",
   "metadata": {},
   "source": [
    "## Applying mykmeans in data with k=2 & c1=(10,10) and c2=(-10,-10)"
   ]
  },
  {
   "cell_type": "code",
   "execution_count": 4,
   "metadata": {},
   "outputs": [
    {
     "name": "stdout",
     "output_type": "stream",
     "text": [
      "Took 30 iterations!\n"
     ]
    }
   ],
   "source": [
    "centers, clusters = mykmeans(x, 2, np.array([[10,10], [-10,-10]]))"
   ]
  },
  {
   "cell_type": "code",
   "execution_count": 5,
   "metadata": {},
   "outputs": [],
   "source": [
    "# function to make easier to plot\n",
    "def plotkmeans(centers, clusters):\n",
    "    converted = []\n",
    "    for cluster in clusters:\n",
    "        converted.append(np.stack(cluster))\n",
    "    clusters = np.array(converted)\n",
    "\n",
    "    ncenters = []\n",
    "    for center in centers:\n",
    "        ncenters.append(np.stack(center))\n",
    "    centers = np.array(ncenters)\n",
    "    \n",
    "    # plotting clusters then centers\n",
    "    for axis in clusters:\n",
    "        plt.scatter(axis.T[0], axis.T[1], s=2)\n",
    "    for center in centers:\n",
    "        plt.scatter(center[0], center[1], s=50, c='g')\n",
    "    plt.show()"
   ]
  },
  {
   "cell_type": "code",
   "execution_count": 6,
   "metadata": {},
   "outputs": [
    {
     "data": {
      "image/png": "[encoded data removed]",
      "text/plain": [
       "<Figure size 432x288 with 1 Axes>"
      ]
     },
     "metadata": {
      "needs_background": "light"
     },
     "output_type": "display_data"
    }
   ],
   "source": [
    "# plotting x1\n",
    "plotkmeans(centers, clusters)"
   ]
  },
  {
   "cell_type": "markdown",
   "metadata": {},
   "source": [
    "## Applying mykmeans in data with k=4 & c1=(10,10) and c2=(-10,-10), c3=(10,-10) and c4=(-10,10)"
   ]
  },
  {
   "cell_type": "code",
   "execution_count": 7,
   "metadata": {},
   "outputs": [
    {
     "name": "stdout",
     "output_type": "stream",
     "text": [
      "Took 18 iterations!\n"
     ]
    }
   ],
   "source": [
    "cent = np.array([[10,10], [-10,-10], [10, -10], [-10, 10]]).ravel().reshape(4, 2)\n",
    "centers1, clusters1 = mykmeans(x, 4, cent)"
   ]
  },
  {
   "cell_type": "code",
   "execution_count": 8,
   "metadata": {},
   "outputs": [
    {
     "data": {
      "image/png": "[encoded data removed]",
      "text/plain": [
       "<Figure size 432x288 with 1 Axes>"
      ]
     },
     "metadata": {
      "needs_background": "light"
     },
     "output_type": "display_data"
    }
   ],
   "source": [
    "# plotting x1\n",
    "plotkmeans(centers1, clusters1)"
   ]
  },
  {
   "cell_type": "code",
   "execution_count": null,
   "metadata": {},
   "outputs": [],
   "source": []
  }
 ],
 "metadata": {
  "kernelspec": {
   "display_name": "Python 3",
   "language": "python",
   "name": "python3"
  },
  "language_info": {
   "codemirror_mode": {
    "name": "ipython",
    "version": 3
   },
   "file_extension": ".py",
   "mimetype": "text/x-python",
   "name": "python",
   "nbconvert_exporter": "python",
   "pygments_lexer": "ipython3",
   "version": "3.7.4"
  }
 },
 "nbformat": 4,
 "nbformat_minor": 2
}
